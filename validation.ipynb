{
 "cells": [
  {
   "cell_type": "code",
   "execution_count": 1,
   "id": "a9b94b74",
   "metadata": {},
   "outputs": [
    {
     "name": "stderr",
     "output_type": "stream",
     "text": [
      "/Users/stefano.damato/anaconda3/envs/VN2/lib/python3.11/site-packages/gluonts/json.py:102: UserWarning: Using `json`-module for json-handling. Consider installing one of `orjson`, `ujson` to speed up serialization and deserialization.\n",
      "  warnings.warn(\n"
     ]
    }
   ],
   "source": [
    "from utils import import_raw_data\n",
    "from validation import (\n",
    "    validate_ql_DeepAR, \n",
    "    validate_ql_intermittentGP, \n",
    "    validate_ql_baseline, \n",
    "    validate_ql_DLinear, \n",
    "    validate_smooth_ts,\n",
    "    validate_local_fn\n",
    ")\n",
    "from reconciliation import temporal_recon_ts\n",
    "from forecasters import gp\n",
    "import numpy as np\n",
    "import pandas as pd\n",
    "import torch\n",
    "#from statsmodels.tsa.holtwinters import ExponentialSmoothing\n",
    "#from tweediegp.intermittent_gp import intermittentGP\n"
   ]
  },
  {
   "cell_type": "markdown",
   "id": "82d257a9",
   "metadata": {},
   "source": [
    "## Validating local methods on smooth time series"
   ]
  },
  {
   "cell_type": "code",
   "execution_count": null,
   "id": "7a668eb0",
   "metadata": {},
   "outputs": [
    {
     "name": "stdout",
     "output_type": "stream",
     "text": [
      "{'likelihood': 'negbin', 'kernel': None, 'h_recon': 3, 'threshold': 3.5}\n"
     ]
    },
    {
     "name": "stderr",
     "output_type": "stream",
     "text": [
      "100%|██████████| 599/599 [04:47<00:00,  2.09it/s]\n",
      "100%|██████████| 599/599 [04:54<00:00,  2.03it/s]\n",
      "100%|██████████| 599/599 [05:03<00:00,  1.97it/s]\n",
      "100%|██████████| 599/599 [04:58<00:00,  2.00it/s]\n",
      "100%|██████████| 599/599 [04:59<00:00,  2.00it/s]\n"
     ]
    },
    {
     "name": "stdout",
     "output_type": "stream",
     "text": [
      "{'likelihood': 'negbin', 'kernel': None, 'h_recon': 4, 'threshold': 3.5}\n"
     ]
    },
    {
     "name": "stderr",
     "output_type": "stream",
     "text": [
      "100%|██████████| 599/599 [04:51<00:00,  2.06it/s]\n",
      "100%|██████████| 599/599 [04:45<00:00,  2.10it/s]\n",
      "100%|██████████| 599/599 [04:52<00:00,  2.05it/s]\n",
      "100%|██████████| 599/599 [04:45<00:00,  2.10it/s]\n",
      "100%|██████████| 599/599 [04:46<00:00,  2.09it/s]\n"
     ]
    },
    {
     "name": "stdout",
     "output_type": "stream",
     "text": [
      "{'likelihood': 'negbin', 'kernel': None, 'h_recon': 3, 'threshold': 4.0}\n"
     ]
    },
    {
     "name": "stderr",
     "output_type": "stream",
     "text": [
      "100%|██████████| 599/599 [05:09<00:00,  1.94it/s]\n",
      "100%|██████████| 599/599 [05:06<00:00,  1.95it/s]\n",
      "100%|██████████| 599/599 [05:23<00:00,  1.85it/s]\n",
      "100%|██████████| 599/599 [05:08<00:00,  1.94it/s]\n",
      "100%|██████████| 599/599 [05:05<00:00,  1.96it/s]\n"
     ]
    },
    {
     "name": "stdout",
     "output_type": "stream",
     "text": [
      "{'likelihood': 'negbin', 'kernel': None, 'h_recon': 4, 'threshold': 4.0}\n"
     ]
    },
    {
     "name": "stderr",
     "output_type": "stream",
     "text": [
      "100%|██████████| 599/599 [05:03<00:00,  1.97it/s]\n",
      "100%|██████████| 599/599 [05:01<00:00,  1.99it/s]\n",
      "100%|██████████| 599/599 [04:53<00:00,  2.04it/s]\n",
      "100%|██████████| 599/599 [05:13<00:00,  1.91it/s]\n",
      "100%|██████████| 599/599 [05:08<00:00,  1.94it/s]\n"
     ]
    },
    {
     "name": "stdout",
     "output_type": "stream",
     "text": [
      "{'likelihood': 'negbin', 'kernel': None, 'h_recon': 3, 'threshold': 4.5}\n"
     ]
    },
    {
     "name": "stderr",
     "output_type": "stream",
     "text": [
      "100%|██████████| 599/599 [05:05<00:00,  1.96it/s]\n",
      "100%|██████████| 599/599 [04:58<00:00,  2.01it/s]\n",
      "100%|██████████| 599/599 [05:13<00:00,  1.91it/s]\n",
      "100%|██████████| 599/599 [05:17<00:00,  1.88it/s]\n",
      "100%|██████████| 599/599 [05:13<00:00,  1.91it/s]\n"
     ]
    },
    {
     "name": "stdout",
     "output_type": "stream",
     "text": [
      "{'likelihood': 'negbin', 'kernel': None, 'h_recon': 4, 'threshold': 4.5}\n"
     ]
    },
    {
     "name": "stderr",
     "output_type": "stream",
     "text": [
      "100%|██████████| 599/599 [05:15<00:00,  1.90it/s]\n",
      "100%|██████████| 599/599 [05:26<00:00,  1.83it/s]\n",
      "100%|██████████| 599/599 [05:13<00:00,  1.91it/s]\n",
      "100%|██████████| 599/599 [05:29<00:00,  1.82it/s]\n",
      "100%|██████████| 599/599 [05:15<00:00,  1.90it/s]\n"
     ]
    },
    {
     "name": "stdout",
     "output_type": "stream",
     "text": [
      "{'likelihood': 'negbin', 'kernel': None, 'h_recon': 3, 'threshold': 5.0}\n"
     ]
    },
    {
     "name": "stderr",
     "output_type": "stream",
     "text": [
      "100%|██████████| 599/599 [05:13<00:00,  1.91it/s]\n",
      "100%|██████████| 599/599 [05:11<00:00,  1.92it/s]\n",
      "100%|██████████| 599/599 [05:29<00:00,  1.82it/s]\n",
      "100%|██████████| 599/599 [05:29<00:00,  1.82it/s]\n",
      "100%|██████████| 599/599 [05:29<00:00,  1.82it/s]\n"
     ]
    },
    {
     "name": "stdout",
     "output_type": "stream",
     "text": [
      "{'likelihood': 'negbin', 'kernel': None, 'h_recon': 4, 'threshold': 5.0}\n"
     ]
    },
    {
     "name": "stderr",
     "output_type": "stream",
     "text": [
      "100%|██████████| 599/599 [05:39<00:00,  1.76it/s]\n",
      "100%|██████████| 599/599 [19:44<00:00,  1.98s/it]    \n",
      "100%|██████████| 599/599 [04:59<00:00,  2.00it/s]\n",
      "100%|██████████| 599/599 [05:01<00:00,  1.99it/s]\n",
      "100%|██████████| 599/599 [05:08<00:00,  1.94it/s]\n"
     ]
    },
    {
     "name": "stdout",
     "output_type": "stream",
     "text": [
      "{'likelihood': 'negbin', 'kernel': 'periodic', 'h_recon': 3, 'threshold': 3.5}\n"
     ]
    },
    {
     "name": "stderr",
     "output_type": "stream",
     "text": [
      "100%|██████████| 599/599 [05:05<00:00,  1.96it/s]\n",
      "100%|██████████| 599/599 [05:10<00:00,  1.93it/s]\n",
      "100%|██████████| 599/599 [05:04<00:00,  1.97it/s]\n",
      " 83%|████████▎ | 497/599 [04:16<00:48,  2.10it/s]"
     ]
    }
   ],
   "source": [
    "datasets = import_raw_data()\n",
    "\n",
    "experiments = []\n",
    "\n",
    "for likelihood in [\"negbin\", \"gaussian\"]:\n",
    "    for kernel in [None, \"periodic\"]:\n",
    "        for threshold in [3.5, 4., 4.5, 5.]:\n",
    "            for h_recon in [3, 4]:\n",
    "\n",
    "                torch.manual_seed(42)\n",
    "                np.random.seed(42)\n",
    "\n",
    "                exp_dict = {\"likelihood\":likelihood, \"kernel\":kernel, \"h_recon\":h_recon, \"threshold\":threshold}\n",
    "                print(exp_dict)\n",
    "\n",
    "                sales, in_stock, master = import_raw_data()\n",
    "                in_stock = in_stock.iloc[:,:sales.shape[1]]\n",
    "                colmeans = np.nanmean(np.where(in_stock, sales, np.nan), axis=0)\n",
    "                in_stock.iloc[:,(colmeans > threshold)] = False\n",
    "                    \n",
    "                def negbin_gp(train_y, train_x, test_x):\n",
    "                        return gp(train_y, train_x, test_x, likelihood=\"negbin\")\n",
    "                def gp_fn(train_y, train_x, test_x):\n",
    "                        return gp(train_y, train_x, test_x, likelihood=likelihood, kernel=kernel)\n",
    "                \n",
    "                def recon_fn(train_y, observed, h):\n",
    "                    if torch.all(train_y[observed] > 0.):\n",
    "                        fn = gp_fn\n",
    "                    else:\n",
    "                        fn = negbin_gp\n",
    "                    recon_samples, _ = temporal_recon_ts(fn, train_y, observed, h_recon)\n",
    "                    return torch.tensor(recon_samples[:,:h])\n",
    "\n",
    "                validation_results = validate_local_fn((sales, in_stock, master), recon_fn)\n",
    "\n",
    "                for T in validation_results.keys():\n",
    "                    experiments.append(\n",
    "                        pd.Series(exp_dict | {\n",
    "                            \"T\":T,\n",
    "                            \"QL simple\":validation_results[T][\"quantile_loss_simple\"],\n",
    "                            \"QL cumulative\":validation_results[T][\"quantile_loss_cumulative\"]\n",
    "                        })\n",
    "                    )\n",
    "\n",
    "experiments = pd.DataFrame(experiments)"
   ]
  },
  {
   "cell_type": "code",
   "execution_count": null,
   "id": "16b86167",
   "metadata": {},
   "outputs": [
    {
     "data": {
      "application/vnd.microsoft.datawrangler.viewer.v0+json": {
       "columns": [
        {
         "name": "('likelihood', 'kernel', 'threshold')",
         "rawType": "object",
         "type": "unknown"
        },
        {
         "name": "('T', 'mean')",
         "rawType": "float64",
         "type": "float"
        },
        {
         "name": "('T', 'std')",
         "rawType": "float64",
         "type": "float"
        },
        {
         "name": "('QL simple', 'mean')",
         "rawType": "float64",
         "type": "float"
        },
        {
         "name": "('QL simple', 'std')",
         "rawType": "float64",
         "type": "float"
        },
        {
         "name": "('QL cumulative', 'mean')",
         "rawType": "float64",
         "type": "float"
        },
        {
         "name": "('QL cumulative', 'std')",
         "rawType": "float64",
         "type": "float"
        }
       ],
       "ref": "16ff9d62-2812-40aa-9e4e-551d1b24da43",
       "rows": [
        [
         "('negbin', np.float64(nan), np.float64(4.0))",
         "155.0",
         "1.5811388300841898",
         "0.9686885549990724",
         "0.0432628324000657",
         "1.8914858096828044",
         "0.1954004393882534"
        ],
        [
         "('gaussian', np.float64(nan), np.float64(3.5))",
         "155.0",
         "1.5811388300841898",
         "0.9776664811723241",
         "0.021626047068276533",
         "1.9417362270450749",
         "0.15344528825594847"
        ],
        [
         "('gaussian', np.float64(nan), np.float64(4.0))",
         "155.0",
         "1.5811388300841898",
         "0.9786125023186791",
         "0.03133094989767512",
         "1.880133555926544",
         "0.1860483472436993"
        ],
        [
         "('negbin', np.float64(nan), np.float64(3.5))",
         "155.0",
         "1.5811388300841898",
         "0.9787979966611019",
         "0.05066677032021029",
         "2.0287701725097387",
         "0.2623896843487663"
        ]
       ],
       "shape": {
        "columns": 6,
        "rows": 4
       }
      },
      "text/html": [
       "<div>\n",
       "<style scoped>\n",
       "    .dataframe tbody tr th:only-of-type {\n",
       "        vertical-align: middle;\n",
       "    }\n",
       "\n",
       "    .dataframe tbody tr th {\n",
       "        vertical-align: top;\n",
       "    }\n",
       "\n",
       "    .dataframe thead tr th {\n",
       "        text-align: left;\n",
       "    }\n",
       "\n",
       "    .dataframe thead tr:last-of-type th {\n",
       "        text-align: right;\n",
       "    }\n",
       "</style>\n",
       "<table border=\"1\" class=\"dataframe\">\n",
       "  <thead>\n",
       "    <tr>\n",
       "      <th></th>\n",
       "      <th></th>\n",
       "      <th></th>\n",
       "      <th colspan=\"2\" halign=\"left\">T</th>\n",
       "      <th colspan=\"2\" halign=\"left\">QL simple</th>\n",
       "      <th colspan=\"2\" halign=\"left\">QL cumulative</th>\n",
       "    </tr>\n",
       "    <tr>\n",
       "      <th></th>\n",
       "      <th></th>\n",
       "      <th></th>\n",
       "      <th>mean</th>\n",
       "      <th>std</th>\n",
       "      <th>mean</th>\n",
       "      <th>std</th>\n",
       "      <th>mean</th>\n",
       "      <th>std</th>\n",
       "    </tr>\n",
       "    <tr>\n",
       "      <th>likelihood</th>\n",
       "      <th>kernel</th>\n",
       "      <th>threshold</th>\n",
       "      <th></th>\n",
       "      <th></th>\n",
       "      <th></th>\n",
       "      <th></th>\n",
       "      <th></th>\n",
       "      <th></th>\n",
       "    </tr>\n",
       "  </thead>\n",
       "  <tbody>\n",
       "    <tr>\n",
       "      <th>negbin</th>\n",
       "      <th>NaN</th>\n",
       "      <th>4.0</th>\n",
       "      <td>155.0</td>\n",
       "      <td>1.581139</td>\n",
       "      <td>0.968689</td>\n",
       "      <td>0.043263</td>\n",
       "      <td>1.891486</td>\n",
       "      <td>0.195400</td>\n",
       "    </tr>\n",
       "    <tr>\n",
       "      <th rowspan=\"2\" valign=\"top\">gaussian</th>\n",
       "      <th rowspan=\"2\" valign=\"top\">NaN</th>\n",
       "      <th>3.5</th>\n",
       "      <td>155.0</td>\n",
       "      <td>1.581139</td>\n",
       "      <td>0.977666</td>\n",
       "      <td>0.021626</td>\n",
       "      <td>1.941736</td>\n",
       "      <td>0.153445</td>\n",
       "    </tr>\n",
       "    <tr>\n",
       "      <th>4.0</th>\n",
       "      <td>155.0</td>\n",
       "      <td>1.581139</td>\n",
       "      <td>0.978613</td>\n",
       "      <td>0.031331</td>\n",
       "      <td>1.880134</td>\n",
       "      <td>0.186048</td>\n",
       "    </tr>\n",
       "    <tr>\n",
       "      <th>negbin</th>\n",
       "      <th>NaN</th>\n",
       "      <th>3.5</th>\n",
       "      <td>155.0</td>\n",
       "      <td>1.581139</td>\n",
       "      <td>0.978798</td>\n",
       "      <td>0.050667</td>\n",
       "      <td>2.028770</td>\n",
       "      <td>0.262390</td>\n",
       "    </tr>\n",
       "  </tbody>\n",
       "</table>\n",
       "</div>"
      ],
      "text/plain": [
       "                                 T           QL simple            \\\n",
       "                              mean       std      mean       std   \n",
       "likelihood kernel threshold                                        \n",
       "negbin     NaN    4.0        155.0  1.581139  0.968689  0.043263   \n",
       "gaussian   NaN    3.5        155.0  1.581139  0.977666  0.021626   \n",
       "                  4.0        155.0  1.581139  0.978613  0.031331   \n",
       "negbin     NaN    3.5        155.0  1.581139  0.978798  0.050667   \n",
       "\n",
       "                            QL cumulative            \n",
       "                                     mean       std  \n",
       "likelihood kernel threshold                          \n",
       "negbin     NaN    4.0            1.891486  0.195400  \n",
       "gaussian   NaN    3.5            1.941736  0.153445  \n",
       "                  4.0            1.880134  0.186048  \n",
       "negbin     NaN    3.5            2.028770  0.262390  "
      ]
     },
     "execution_count": 6,
     "metadata": {},
     "output_type": "execute_result"
    }
   ],
   "source": [
    "experiments_grouped = experiments.groupby(exp_dict.keys(), dropna=False).agg([\"mean\", \"std\"])\n",
    "experiments_grouped.sort_values((\"QL simple\", \"mean\"))"
   ]
  }
 ],
 "metadata": {
  "kernelspec": {
   "display_name": "VN2",
   "language": "python",
   "name": "python3"
  },
  "language_info": {
   "codemirror_mode": {
    "name": "ipython",
    "version": 3
   },
   "file_extension": ".py",
   "mimetype": "text/x-python",
   "name": "python",
   "nbconvert_exporter": "python",
   "pygments_lexer": "ipython3",
   "version": "3.11.0"
  }
 },
 "nbformat": 4,
 "nbformat_minor": 5
}
